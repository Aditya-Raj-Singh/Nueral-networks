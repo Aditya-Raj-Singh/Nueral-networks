{
 "cells": [
  {
   "cell_type": "code",
   "execution_count": 1,
   "metadata": {
    "collapsed": false
   },
   "outputs": [
    {
     "name": "stderr",
     "output_type": "stream",
     "text": [
      "Using Theano backend.\n"
     ]
    }
   ],
   "source": [
    "import numpy as np\n",
    "from matplotlib import pyplot as plt\n",
    "%matplotlib inline\n",
    "\n",
    "#--------------- keras imports -------------------#\n",
    "import keras\n",
    "from keras.layers import Input, Dense, Activation\n",
    "from keras.models import Sequential\n",
    "from keras.utils import np_utils"
   ]
  },
  {
   "cell_type": "code",
   "execution_count": 2,
   "metadata": {
    "collapsed": true
   },
   "outputs": [],
   "source": [
    "mean_01 = np.array([3.0, 3.0])\n",
    "cov_01 = np.array([[1.0, 0.0], [0.0, 1.0]])\n",
    "\n",
    "mean_02 = np.array([-3.0, 1.0])\n",
    "cov_02 = np.array([[0.5, 0.4], [0.4, 0.7]])\n",
    "\n",
    "mean_03 = np.array([1.0, -1.0])\n",
    "cov_03 = np.array([[0.5, 0.4], [0.4, 0.7]])\n",
    "\n",
    "dist_01 = np.random.multivariate_normal(mean_01, cov_01, 250)\n",
    "dist_02 = np.random.multivariate_normal(mean_02, cov_02, 250)\n",
    "dist_03 = np.random.multivariate_normal(mean_03, cov_03, 250)\n",
    "\n",
    "total_data_size = dist_01.shape[0] + dist_02.shape[0] + dist_03.shape[0]\n",
    "data_dim = dist_01.shape[1]\n",
    "\n",
    "labels = np.zeros((total_data_size,))\n",
    "labels[dist_01.shape[0]:dist_01.shape[0]+dist_02.shape[0]] = 1\n",
    "labels[dist_01.shape[0]+dist_02.shape[0]:] = 2\n",
    "\n",
    "data = np.zeros((total_data_size, data_dim + 1))\n",
    "\n",
    "data[:dist_01.shape[0], :data_dim] = dist_01\n",
    "data[dist_01.shape[0]:dist_01.shape[0] + dist_02.shape[0], :data_dim] = dist_02\n",
    "data[dist_01.shape[0] + dist_02.shape[0]:, :data_dim] = dist_03\n",
    "\n",
    "data[:, -1] = labels\n",
    "\n",
    "np.random.shuffle(data)"
   ]
  },
  {
   "cell_type": "code",
   "execution_count": 3,
   "metadata": {
    "collapsed": false
   },
   "outputs": [
    {
     "data": {
      "image/png": "[encoded data removed]",
      "text/plain": [
       "<matplotlib.figure.Figure at 0x7f804c093b10>"
      ]
     },
     "metadata": {},
     "output_type": "display_data"
    }
   ],
   "source": [
    "plt.figure(0)\n",
    "\n",
    "for ix in range(data.shape[0]):\n",
    "    if data[ix, -1] == 0:\n",
    "        plt.scatter(data[ix, 0], data[ix, 1], color='red')\n",
    "    elif data[ix, -1] == 1:\n",
    "        plt.scatter(data[ix, 0], data[ix, 1], color='green')\n",
    "    else:\n",
    "        plt.scatter(data[ix, 0], data[ix, 1], color='blue')\n",
    "plt.show()"
   ]
  },
  {
   "cell_type": "code",
   "execution_count": 4,
   "metadata": {
    "collapsed": false
   },
   "outputs": [
    {
     "name": "stdout",
     "output_type": "stream",
     "text": [
      "(600, 2) (150, 2)\n",
      "(600, 3) (150, 3)\n"
     ]
    }
   ],
   "source": [
    "split = int(total_data_size * 0.8)\n",
    "X_train = data[:split, :-1]\n",
    "X_val = data[split:, :-1]\n",
    "\n",
    "y_train = np_utils.to_categorical(data[:split, -1])\n",
    "y_val = np_utils.to_categorical(data[split:, -1])\n",
    "\n",
    "print X_train.shape, X_val.shape\n",
    "print y_train.shape, y_val.shape"
   ]
  },
  {
   "cell_type": "code",
   "execution_count": 5,
   "metadata": {
    "collapsed": false
   },
   "outputs": [
    {
     "name": "stdout",
     "output_type": "stream",
     "text": [
      "____________________________________________________________________________________________________\n",
      "Layer (type)                     Output Shape          Param #     Connected to                     \n",
      "====================================================================================================\n",
      "dense_1 (Dense)                  (None, 3)             9           dense_input_1[0][0]              \n",
      "____________________________________________________________________________________________________\n",
      "activation_1 (Activation)        (None, 3)             0           dense_1[0][0]                    \n",
      "====================================================================================================\n",
      "Total params: 9\n",
      "Trainable params: 9\n",
      "Non-trainable params: 0\n",
      "____________________________________________________________________________________________________\n"
     ]
    }
   ],
   "source": [
    "#--------------- keras model -----------------#\n",
    "\n",
    "model = Sequential()\n",
    "\n",
    "fc1 = Dense(3, input_shape=(2,))\n",
    "model.add(fc1)\n",
    "\n",
    "model.add(Activation('softmax'))\n",
    "\n",
    "model.summary()\n",
    "model.compile(loss='binary_crossentropy', optimizer='sgd', metrics=['accuracy'])"
   ]
  },
  {
   "cell_type": "code",
   "execution_count": 6,
   "metadata": {
    "collapsed": false
   },
   "outputs": [
    {
     "name": "stdout",
     "output_type": "stream",
     "text": [
      "Train on 600 samples, validate on 150 samples\n",
      "Epoch 1/40\n",
      "600/600 [==============================] - 0s - loss: 0.9856 - acc: 0.5450 - val_loss: 0.8338 - val_acc: 0.5689\b\b\b\b\b\b\b\b\b\b\b\b\b\b\b\b\b\b\b\b\b\b\b\b\b\b\b\b\b\b\b\b\b\b\b\b\b\b\b\b\b\b\b\b\b\b\b\n",
      "Epoch 2/40\n",
      "600/600 [==============================] - 0s - loss: 0.7481 - acc: 0.5706 - val_loss: 0.6316 - val_acc: 0.6067\b\b\b\b\b\b\b\b\b\b\b\b\b\b\b\b\b\b\b\b\b\b\b\b\b\b\b\b\b\b\b\b\b\b\b\b\b\b\b\b\b\b\b\b\b\b\b\n",
      "Epoch 3/40\n",
      "600/600 [==============================] - 0s - loss: 0.5803 - acc: 0.6489 - val_loss: 0.5000 - val_acc: 0.7200\b\b\b\b\b\b\b\b\b\b\b\b\b\b\b\b\b\b\b\b\b\b\b\b\b\b\b\b\b\b\b\b\b\b\b\b\b\b\b\b\b\b\b\b\b\b\b\n",
      "Epoch 4/40\n",
      "600/600 [==============================] - 0s - loss: 0.4752 - acc: 0.7622 - val_loss: 0.4207 - val_acc: 0.8156\b\b\b\b\b\b\b\b\b\b\b\b\b\b\b\b\b\b\b\b\b\b\b\b\b\b\b\b\b\b\b\b\b\b\b\b\b\b\b\b\b\b\b\b\b\b\b\b\b\b\b\b\b\b\b\b\b\b\b\b\b\b\b\b\b\b\b\b\b\b\b\b\b\b\b\b\b\b\b\b\b\b\b\b\b\b\b\b\b\b\b\b\b\b\b\b\b\b\b\b\b\b\b\b\b\b\b\b\b\b\b\b\b\b\b\b\b\b\b\b\b\b\b\b\b\b\n",
      "Epoch 5/40\n",
      "600/600 [==============================] - 0s - loss: 0.4099 - acc: 0.8194 - val_loss: 0.3687 - val_acc: 0.8400\b\b\b\b\b\b\b\b\b\b\b\b\b\b\b\b\b\b\b\b\b\b\b\b\b\b\b\b\b\b\b\b\b\b\b\b\b\b\b\b\b\b\b\b\b\b\b\n",
      "Epoch 6/40\n",
      "600/600 [==============================] - 0s - loss: 0.3649 - acc: 0.8411 - val_loss: 0.3311 - val_acc: 0.8533\b\b\b\b\b\b\b\b\b\b\b\b\b\b\b\b\b\b\b\b\b\b\b\b\b\b\b\b\b\b\b\b\b\b\b\b\b\b\b\b\b\b\b\b\b\b\b\b\b\b\b\b\b\b\b\b\b\b\b\b\b\b\b\b\b\b\b\b\b\b\b\b\b\b\b\b\b\b\b\b\b\b\b\b\b\b\b\b\b\b\b\b\b\b\b\b\b\b\b\b\b\b\b\b\b\b\b\b\b\b\b\b\b\b\b\b\b\b\b\b\b\b\b\b\b\b\n",
      "Epoch 7/40\n",
      "600/600 [==============================] - 0s - loss: 0.3311 - acc: 0.8472 - val_loss: 0.3021 - val_acc: 0.8578\b\b\b\b\b\b\b\b\b\b\b\b\b\b\b\b\b\b\b\b\b\b\b\b\b\b\b\b\b\b\b\b\b\b\b\b\b\b\b\b\b\b\b\b\b\b\b\n",
      "Epoch 8/40\n",
      "600/600 [==============================] - 0s - loss: 0.3043 - acc: 0.8528 - val_loss: 0.2786 - val_acc: 0.8600\b\b\b\b\b\b\b\b\b\b\b\b\b\b\b\b\b\b\b\b\b\b\b\b\b\b\b\b\b\b\b\b\b\b\b\b\b\b\b\b\b\b\b\b\b\b\b\b\b\b\b\b\b\b\b\b\b\b\b\b\b\b\b\b\b\b\b\b\b\b\b\b\b\b\b\b\b\b\b\b\b\b\b\b\b\b\b\b\b\b\b\b\b\b\b\b\b\b\b\b\b\b\b\b\b\b\b\b\b\b\b\b\b\b\b\b\b\b\b\b\b\b\b\b\b\b\n",
      "Epoch 9/40\n",
      "600/600 [==============================] - 0s - loss: 0.2820 - acc: 0.8561 - val_loss: 0.2586 - val_acc: 0.8667\b\b\b\b\b\b\b\b\b\b\b\b\b\b\b\b\b\b\b\b\b\b\b\b\b\b\b\b\b\b\b\b\b\b\b\b\b\b\b\b\b\b\b\b\b\b\b\n",
      "Epoch 10/40\n",
      "600/600 [==============================] - 0s - loss: 0.2629 - acc: 0.8617 - val_loss: 0.2415 - val_acc: 0.8711\b\b\b\b\b\b\b\b\b\b\b\b\b\b\b\b\b\b\b\b\b\b\b\b\b\b\b\b\b\b\b\b\b\b\b\b\b\b\b\b\b\b\b\b\b\b\b\n",
      "Epoch 11/40\n",
      "600/600 [==============================] - 0s - loss: 0.2463 - acc: 0.8778 - val_loss: 0.2265 - val_acc: 0.8933\b\b\b\b\b\b\b\b\b\b\b\b\b\b\b\b\b\b\b\b\b\b\b\b\b\b\b\b\b\b\b\b\b\b\b\b\b\b\b\b\b\b\b\b\b\b\b\n",
      "Epoch 12/40\n",
      "600/600 [==============================] - 0s - loss: 0.2317 - acc: 0.8933 - val_loss: 0.2133 - val_acc: 0.9000\b\b\b\b\b\b\b\b\b\b\b\b\b\b\b\b\b\b\b\b\b\b\b\b\b\b\b\b\b\b\b\b\b\b\b\b\b\b\b\b\b\b\b\b\b\b\b\n",
      "Epoch 13/40\n",
      "600/600 [==============================] - 0s - loss: 0.2188 - acc: 0.9100 - val_loss: 0.2014 - val_acc: 0.9178\b\b\b\b\b\b\b\b\b\b\b\b\b\b\b\b\b\b\b\b\b\b\b\b\b\b\b\b\b\b\b\b\b\b\b\b\b\b\b\b\b\b\b\b\b\b\b\n",
      "Epoch 14/40\n",
      "600/600 [==============================] - 0s - loss: 0.2071 - acc: 0.9261 - val_loss: 0.1908 - val_acc: 0.9311\b\b\b\b\b\b\b\b\b\b\b\b\b\b\b\b\b\b\b\b\b\b\b\b\b\b\b\b\b\b\b\b\b\b\b\b\b\b\b\b\b\b\b\b\b\b\b\n",
      "Epoch 15/40\n",
      "600/600 [==============================] - 0s - loss: 0.1966 - acc: 0.9328 - val_loss: 0.1812 - val_acc: 0.9378\b\b\b\b\b\b\b\b\b\b\b\b\b\b\b\b\b\b\b\b\b\b\b\b\b\b\b\b\b\b\b\b\b\b\b\b\b\b\b\b\b\b\b\b\b\b\b\n",
      "Epoch 16/40\n",
      "600/600 [==============================] - 0s - loss: 0.1871 - acc: 0.9411 - val_loss: 0.1725 - val_acc: 0.9444\b\b\b\b\b\b\b\b\b\b\b\b\b\b\b\b\b\b\b\b\b\b\b\b\b\b\b\b\b\b\b\b\b\b\b\b\b\b\b\b\b\b\b\b\b\b\b\n",
      "Epoch 17/40\n",
      "600/600 [==============================] - 0s - loss: 0.1785 - acc: 0.9483 - val_loss: 0.1646 - val_acc: 0.9511\b\b\b\b\b\b\b\b\b\b\b\b\b\b\b\b\b\b\b\b\b\b\b\b\b\b\b\b\b\b\b\b\b\b\b\b\b\b\b\b\b\b\b\b\b\b\b\n",
      "Epoch 18/40\n",
      "600/600 [==============================] - 0s - loss: 0.1707 - acc: 0.9528 - val_loss: 0.1574 - val_acc: 0.9622\b\b\b\b\b\b\b\b\b\b\b\b\b\b\b\b\b\b\b\b\b\b\b\b\b\b\b\b\b\b\b\b\b\b\b\b\b\b\b\b\b\b\b\b\b\b\b\n",
      "Epoch 19/40\n",
      "600/600 [==============================] - 0s - loss: 0.1635 - acc: 0.9611 - val_loss: 0.1507 - val_acc: 0.9667\b\b\b\b\b\b\b\b\b\b\b\b\b\b\b\b\b\b\b\b\b\b\b\b\b\b\b\b\b\b\b\b\b\b\b\b\b\b\b\b\b\b\b\b\b\b\b\n",
      "Epoch 20/40\n",
      "600/600 [==============================] - 0s - loss: 0.1569 - acc: 0.9656 - val_loss: 0.1447 - val_acc: 0.9689\b\b\b\b\b\b\b\b\b\b\b\b\b\b\b\b\b\b\b\b\b\b\b\b\b\b\b\b\b\b\b\b\b\b\b\b\b\b\b\b\b\b\b\b\b\b\b\n",
      "Epoch 21/40\n",
      "600/600 [==============================] - 0s - loss: 0.1509 - acc: 0.9689 - val_loss: 0.1391 - val_acc: 0.9756\b\b\b\b\b\b\b\b\b\b\b\b\b\b\b\b\b\b\b\b\b\b\b\b\b\b\b\b\b\b\b\b\b\b\b\b\b\b\b\b\b\b\b\b\b\b\b\b\b\b\b\b\b\b\b\b\b\b\b\b\b\b\b\b\b\b\b\b\b\b\b\b\b\b\b\b\b\b\b\b\b\b\b\b\b\b\b\b\b\b\b\b\b\b\b\b\b\b\b\b\b\b\b\b\b\b\b\b\b\b\b\b\b\b\b\b\b\b\b\b\b\b\b\b\b\b\n",
      "Epoch 22/40\n",
      "600/600 [==============================] - 0s - loss: 0.1453 - acc: 0.9733 - val_loss: 0.1339 - val_acc: 0.9778\b\b\b\b\b\b\b\b\b\b\b\b\b\b\b\b\b\b\b\b\b\b\b\b\b\b\b\b\b\b\b\b\b\b\b\b\b\b\b\b\b\b\b\b\b\b\b\n",
      "Epoch 23/40\n",
      "600/600 [==============================] - 0s - loss: 0.1402 - acc: 0.9756 - val_loss: 0.1292 - val_acc: 0.9778\b\b\b\b\b\b\b\b\b\b\b\b\b\b\b\b\b\b\b\b\b\b\b\b\b\b\b\b\b\b\b\b\b\b\b\b\b\b\b\b\b\b\b\b\b\b\b\n",
      "Epoch 24/40\n",
      "600/600 [==============================] - 0s - loss: 0.1355 - acc: 0.9778 - val_loss: 0.1248 - val_acc: 0.9800\b\b\b\b\b\b\b\b\b\b\b\b\b\b\b\b\b\b\b\b\b\b\b\b\b\b\b\b\b\b\b\b\b\b\b\b\b\b\b\b\b\b\b\b\b\b\b\b\b\b\b\b\b\b\b\b\b\b\b\b\b\b\b\b\b\b\b\b\b\b\b\b\b\b\b\b\b\b\b\b\b\b\b\b\b\b\b\b\b\b\b\b\b\b\b\b\b\b\b\b\b\b\b\b\b\b\b\b\b\b\b\b\b\b\b\b\b\b\b\b\b\b\b\b\b\b\n",
      "Epoch 25/40\n",
      "600/600 [==============================] - 0s - loss: 0.1310 - acc: 0.9783 - val_loss: 0.1206 - val_acc: 0.9800\b\b\b\b\b\b\b\b\b\b\b\b\b\b\b\b\b\b\b\b\b\b\b\b\b\b\b\b\b\b\b\b\b\b\b\b\b\b\b\b\b\b\b\b\b\b\b\n",
      "Epoch 26/40\n",
      "600/600 [==============================] - 0s - loss: 0.1269 - acc: 0.9806 - val_loss: 0.1168 - val_acc: 0.9800\b\b\b\b\b\b\b\b\b\b\b\b\b\b\b\b\b\b\b\b\b\b\b\b\b\b\b\b\b\b\b\b\b\b\b\b\b\b\b\b\b\b\b\b\b\b\b\n",
      "Epoch 27/40\n",
      "600/600 [==============================] - 0s - loss: 0.1231 - acc: 0.9817 - val_loss: 0.1132 - val_acc: 0.9800\b\b\b\b\b\b\b\b\b\b\b\b\b\b\b\b\b\b\b\b\b\b\b\b\b\b\b\b\b\b\b\b\b\b\b\b\b\b\b\b\b\b\b\b\b\b\b\n",
      "Epoch 28/40\n",
      "600/600 [==============================] - 0s - loss: 0.1195 - acc: 0.9822 - val_loss: 0.1099 - val_acc: 0.9844\b\b\b\b\b\b\b\b\b\b\b\b\b\b\b\b\b\b\b\b\b\b\b\b\b\b\b\b\b\b\b\b\b\b\b\b\b\b\b\b\b\b\b\b\b\b\b\n",
      "Epoch 29/40\n",
      "600/600 [==============================] - 0s - loss: 0.1161 - acc: 0.9833 - val_loss: 0.1067 - val_acc: 0.9867\b\b\b\b\b\b\b\b\b\b\b\b\b\b\b\b\b\b\b\b\b\b\b\b\b\b\b\b\b\b\b\b\b\b\b\b\b\b\b\b\b\b\b\b\b\b\b\n",
      "Epoch 30/40\n",
      "600/600 [==============================] - 0s - loss: 0.1130 - acc: 0.9839 - val_loss: 0.1037 - val_acc: 0.9867\b\b\b\b\b\b\b\b\b\b\b\b\b\b\b\b\b\b\b\b\b\b\b\b\b\b\b\b\b\b\b\b\b\b\b\b\b\b\b\b\b\b\b\b\b\b\b\n",
      "Epoch 31/40\n",
      "600/600 [==============================] - 0s - loss: 0.1100 - acc: 0.9839 - val_loss: 0.1010 - val_acc: 0.9867\b\b\b\b\b\b\b\b\b\b\b\b\b\b\b\b\b\b\b\b\b\b\b\b\b\b\b\b\b\b\b\b\b\b\b\b\b\b\b\b\b\b\b\b\b\b\b\n",
      "Epoch 32/40\n",
      "600/600 [==============================] - 0s - loss: 0.1072 - acc: 0.9844 - val_loss: 0.0984 - val_acc: 0.9867\b\b\b\b\b\b\b\b\b\b\b\b\b\b\b\b\b\b\b\b\b\b\b\b\b\b\b\b\b\b\b\b\b\b\b\b\b\b\b\b\b\b\b\b\b\b\b\n",
      "Epoch 33/40\n",
      "600/600 [==============================] - 0s - loss: 0.1046 - acc: 0.9844 - val_loss: 0.0959 - val_acc: 0.9933\b\b\b\b\b\b\b\b\b\b\b\b\b\b\b\b\b\b\b\b\b\b\b\b\b\b\b\b\b\b\b\b\b\b\b\b\b\b\b\b\b\b\b\b\b\b\b\n",
      "Epoch 34/40\n",
      "600/600 [==============================] - 0s - loss: 0.1021 - acc: 0.9844 - val_loss: 0.0936 - val_acc: 0.9933\b\b\b\b\b\b\b\b\b\b\b\b\b\b\b\b\b\b\b\b\b\b\b\b\b\b\b\b\b\b\b\b\b\b\b\b\b\b\b\b\b\b\b\b\b\b\b\n",
      "Epoch 35/40\n",
      "600/600 [==============================] - 0s - loss: 0.0998 - acc: 0.9850 - val_loss: 0.0913 - val_acc: 0.9933\b\b\b\b\b\b\b\b\b\b\b\b\b\b\b\b\b\b\b\b\b\b\b\b\b\b\b\b\b\b\b\b\b\b\b\b\b\b\b\b\b\b\b\b\b\b\b\b\b\b\b\b\b\b\b\b\b\b\b\b\b\b\b\b\b\b\b\b\b\b\b\b\b\b\b\b\b\b\b\b\b\b\b\b\b\b\b\b\b\b\b\b\b\b\b\b\b\b\b\b\b\b\b\b\b\b\b\b\b\b\b\b\b\b\b\b\b\b\b\b\b\b\b\b\b\b\n",
      "Epoch 36/40\n",
      "600/600 [==============================] - 0s - loss: 0.0976 - acc: 0.9850 - val_loss: 0.0892 - val_acc: 0.9933\b\b\b\b\b\b\b\b\b\b\b\b\b\b\b\b\b\b\b\b\b\b\b\b\b\b\b\b\b\b\b\b\b\b\b\b\b\b\b\b\b\b\b\b\b\b\b\n",
      "Epoch 37/40\n",
      "600/600 [==============================] - 0s - loss: 0.0955 - acc: 0.9856 - val_loss: 0.0873 - val_acc: 0.9956\b\b\b\b\b\b\b\b\b\b\b\b\b\b\b\b\b\b\b\b\b\b\b\b\b\b\b\b\b\b\b\b\b\b\b\b\b\b\b\b\b\b\b\b\b\b\b\n",
      "Epoch 38/40\n",
      "600/600 [==============================] - 0s - loss: 0.0935 - acc: 0.9856 - val_loss: 0.0854 - val_acc: 0.9956\b\b\b\b\b\b\b\b\b\b\b\b\b\b\b\b\b\b\b\b\b\b\b\b\b\b\b\b\b\b\b\b\b\b\b\b\b\b\b\b\b\b\b\b\b\b\b\n",
      "Epoch 39/40\n",
      "600/600 [==============================] - 0s - loss: 0.0916 - acc: 0.9867 - val_loss: 0.0836 - val_acc: 0.9978\b\b\b\b\b\b\b\b\b\b\b\b\b\b\b\b\b\b\b\b\b\b\b\b\b\b\b\b\b\b\b\b\b\b\b\b\b\b\b\b\b\b\b\b\b\b\b\n",
      "Epoch 40/40\n",
      "600/600 [==============================] - 0s - loss: 0.0898 - acc: 0.9878 - val_loss: 0.0819 - val_acc: 0.9978\b\b\b\b\b\b\b\b\b\b\b\b\b\b\b\b\b\b\b\b\b\b\b\b\b\b\b\b\b\b\b\b\b\b\b\b\b\b\b\b\b\b\b\b\b\b\b\n"
     ]
    }
   ],
   "source": [
    "hist = model.fit(X_train, y_train,\n",
    "          nb_epoch=40,\n",
    "          shuffle=True,\n",
    "          validation_data=(X_val, y_val))"
   ]
  },
  {
   "cell_type": "code",
   "execution_count": 7,
   "metadata": {
    "collapsed": false
   },
   "outputs": [
    {
     "name": "stdout",
     "output_type": "stream",
     "text": [
      "['acc', 'loss', 'val_acc', 'val_loss']\n"
     ]
    }
   ],
   "source": [
    "print hist.history.keys()"
   ]
  },
  {
   "cell_type": "code",
   "execution_count": 8,
   "metadata": {
    "collapsed": false
   },
   "outputs": [
    {
     "data": {
      "image/png": "[encoded data removed]",
      "text/plain": [
       "<matplotlib.figure.Figure at 0x7f80443934d0>"
      ]
     },
     "metadata": {},
     "output_type": "display_data"
    },
    {
     "data": {
      "image/png": "[encoded data removed]",
      "text/plain": [
       "<matplotlib.figure.Figure at 0x7f8045e29350>"
      ]
     },
     "metadata": {},
     "output_type": "display_data"
    }
   ],
   "source": [
    "plt.figure(0)\n",
    "plt.plot(hist.history['loss'], 'b')\n",
    "plt.plot(hist.history['val_loss'], 'r')\n",
    "\n",
    "plt.figure(1)\n",
    "plt.plot(hist.history['acc'], 'b')\n",
    "plt.plot(hist.history['val_acc'], 'r')\n",
    "plt.show()\n",
    "# print hist.history.keys()"
   ]
  },
  {
   "cell_type": "code",
   "execution_count": null,
   "metadata": {
    "collapsed": true
   },
   "outputs": [],
   "source": []
  }
 ],
 "metadata": {
  "kernelspec": {
   "display_name": "Python 2",
   "language": "python",
   "name": "python2"
  },
  "language_info": {
   "codemirror_mode": {
    "name": "ipython",
    "version": 2
   },
   "file_extension": ".py",
   "mimetype": "text/x-python",
   "name": "python",
   "nbconvert_exporter": "python",
   "pygments_lexer": "ipython2",
   "version": "2.7.12"
  }
 },
 "nbformat": 4,
 "nbformat_minor": 2
}
